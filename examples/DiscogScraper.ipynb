{
 "cells": [
  {
   "cell_type": "code",
   "execution_count": 568,
   "metadata": {
    "collapsed": true
   },
   "outputs": [],
   "source": [
    "import sys"
   ]
  },
  {
   "cell_type": "code",
   "execution_count": 569,
   "metadata": {
    "collapsed": true
   },
   "outputs": [],
   "source": [
    "sys.path.append('..')"
   ]
  },
  {
   "cell_type": "code",
   "execution_count": 570,
   "metadata": {
    "collapsed": false
   },
   "outputs": [],
   "source": [
    "import discogscraper"
   ]
  },
  {
   "cell_type": "markdown",
   "metadata": {},
   "source": [
    "### Insert Your Discogs Token here"
   ]
  },
  {
   "cell_type": "code",
   "execution_count": 571,
   "metadata": {
    "collapsed": true
   },
   "outputs": [],
   "source": [
    "myToken=''"
   ]
  },
  {
   "cell_type": "code",
   "execution_count": 572,
   "metadata": {
    "collapsed": true
   },
   "outputs": [],
   "source": [
    "import discogscraper as ds"
   ]
  },
  {
   "cell_type": "code",
   "execution_count": 573,
   "metadata": {
    "collapsed": false
   },
   "outputs": [
    {
     "data": {
      "text/plain": [
       "<module 'discogscraper' from '../discogscraper.py'>"
      ]
     },
     "execution_count": 573,
     "metadata": {},
     "output_type": "execute_result"
    }
   ],
   "source": [
    "reload(ds)"
   ]
  },
  {
   "cell_type": "code",
   "execution_count": 574,
   "metadata": {
    "collapsed": false
   },
   "outputs": [],
   "source": [
    "dso = ds.DiscogScraper(myToken, 'shellac', 'song of the minerals')"
   ]
  },
  {
   "cell_type": "code",
   "execution_count": 575,
   "metadata": {
    "collapsed": false
   },
   "outputs": [
    {
     "data": {
      "text/plain": [
       "'https://api.discogs.com/'"
      ]
     },
     "execution_count": 575,
     "metadata": {},
     "output_type": "execute_result"
    }
   ],
   "source": [
    "dso.main_url"
   ]
  },
  {
   "cell_type": "code",
   "execution_count": 576,
   "metadata": {
    "collapsed": false
   },
   "outputs": [
    {
     "data": {
      "text/plain": [
       "'json_releases/'"
      ]
     },
     "execution_count": 576,
     "metadata": {},
     "output_type": "execute_result"
    }
   ],
   "source": [
    "dso.json_path"
   ]
  },
  {
   "cell_type": "markdown",
   "metadata": {},
   "source": [
    "### get the search result in json format from Discogs"
   ]
  },
  {
   "cell_type": "code",
   "execution_count": 577,
   "metadata": {
    "collapsed": false
   },
   "outputs": [
    {
     "name": "stdout",
     "output_type": "stream",
     "text": [
      "Use Initialization Values\n"
     ]
    },
    {
     "data": {
      "text/plain": [
       "\"curl 'https://api.discogs.com/database/search?q=shellac&token=myoEuQPZlLnuRtHokDXecKtWoeSYBzglFRKUsxcc&track=song%20of%20the%20minerals' > ./json_releases/shellacsong%20of%20the%20minerals_1.json\""
      ]
     },
     "execution_count": 577,
     "metadata": {},
     "output_type": "execute_result"
    }
   ],
   "source": [
    "dso.search_command()"
   ]
  },
  {
   "cell_type": "code",
   "execution_count": 578,
   "metadata": {
    "collapsed": false
   },
   "outputs": [
    {
     "name": "stdout",
     "output_type": "stream",
     "text": [
      "Use Initialization Values\n"
     ]
    }
   ],
   "source": [
    "jsonsearch = dso.get_url(dso.search_command())"
   ]
  },
  {
   "cell_type": "markdown",
   "metadata": {},
   "source": [
    "### extract the releases IDs from the retrieved file"
   ]
  },
  {
   "cell_type": "code",
   "execution_count": 579,
   "metadata": {
    "collapsed": false
   },
   "outputs": [
    {
     "data": {
      "text/plain": [
       "'./json_releases/shellacsong%20of%20the%20minerals_1.json'"
      ]
     },
     "execution_count": 579,
     "metadata": {},
     "output_type": "execute_result"
    }
   ],
   "source": [
    "dso.tempFile"
   ]
  },
  {
   "cell_type": "code",
   "execution_count": 580,
   "metadata": {
    "collapsed": false,
    "scrolled": true
   },
   "outputs": [],
   "source": [
    "releases, nexts = dso.releasecollect()"
   ]
  },
  {
   "cell_type": "code",
   "execution_count": 581,
   "metadata": {
    "collapsed": false
   },
   "outputs": [
    {
     "data": {
      "text/plain": [
       "(0,\n",
       " [1299912,\n",
       "  1299889,\n",
       "  2080421,\n",
       "  3146020,\n",
       "  2053797,\n",
       "  371395,\n",
       "  372758,\n",
       "  5500977,\n",
       "  1041522,\n",
       "  5810769,\n",
       "  1690696,\n",
       "  6761087,\n",
       "  7386537,\n",
       "  7191705,\n",
       "  7359767])"
      ]
     },
     "execution_count": 581,
     "metadata": {},
     "output_type": "execute_result"
    }
   ],
   "source": [
    "nexts, releases"
   ]
  },
  {
   "cell_type": "markdown",
   "metadata": {},
   "source": [
    "### get one release file from Discogs"
   ]
  },
  {
   "cell_type": "code",
   "execution_count": 582,
   "metadata": {
    "collapsed": false
   },
   "outputs": [
    {
     "data": {
      "text/plain": [
       "\"curl 'https://api.discogs.com/releases/1299889' --user-agent 'discogsBrainFeederz/0.1' >> ./json_releases/1299889.json\""
      ]
     },
     "execution_count": 582,
     "metadata": {},
     "output_type": "execute_result"
    }
   ],
   "source": [
    "dso.release_command(releases[1])"
   ]
  },
  {
   "cell_type": "code",
   "execution_count": 583,
   "metadata": {
    "collapsed": false
   },
   "outputs": [],
   "source": [
    "jsonrelease = dso.get_url(dso.release_command(releases[1]))"
   ]
  },
  {
   "cell_type": "markdown",
   "metadata": {},
   "source": [
    "### get all releases files from Discogs"
   ]
  },
  {
   "cell_type": "code",
   "execution_count": 584,
   "metadata": {
    "collapsed": true
   },
   "outputs": [],
   "source": [
    "for i in releases:\n",
    "    dso.get_url(dso.release_command(i))"
   ]
  },
  {
   "cell_type": "markdown",
   "metadata": {},
   "source": [
    "### Extract the tracklist from a release json file\n",
    "note: in one release file more than one json can be present, it means that a file can store more than one release"
   ]
  },
  {
   "cell_type": "code",
   "execution_count": 585,
   "metadata": {
    "collapsed": false
   },
   "outputs": [],
   "source": [
    "reltmp = dso.get_tracklist(releases[1])"
   ]
  },
  {
   "cell_type": "code",
   "execution_count": 586,
   "metadata": {
    "collapsed": false
   },
   "outputs": [
    {
     "data": {
      "text/plain": [
       "[[{u'duration': u'',\n",
       "   u'position': u'A1',\n",
       "   u'title': u'Friends Only',\n",
       "   u'type_': u'track'},\n",
       "  {u'duration': u'',\n",
       "   u'position': u'A2',\n",
       "   u'title': u'The Admiral',\n",
       "   u'type_': u'track'},\n",
       "  {u'duration': u'',\n",
       "   u'position': u'A3',\n",
       "   u'title': u'Song Of The Minerals',\n",
       "   u'type_': u'track'},\n",
       "  {u'duration': u'',\n",
       "   u'position': u'B1',\n",
       "   u'title': u'Friends Only',\n",
       "   u'type_': u'track'},\n",
       "  {u'duration': u'',\n",
       "   u'position': u'B2',\n",
       "   u'title': u'Dog And Pony Show',\n",
       "   u'type_': u'track'},\n",
       "  {u'duration': u'',\n",
       "   u'position': u'B3',\n",
       "   u'title': u'Porno Star',\n",
       "   u'type_': u'track'}],\n",
       " [{u'duration': u'',\n",
       "   u'position': u'A1',\n",
       "   u'title': u'Friends Only',\n",
       "   u'type_': u'track'},\n",
       "  {u'duration': u'',\n",
       "   u'position': u'A2',\n",
       "   u'title': u'The Admiral',\n",
       "   u'type_': u'track'},\n",
       "  {u'duration': u'',\n",
       "   u'position': u'A3',\n",
       "   u'title': u'Song Of The Minerals',\n",
       "   u'type_': u'track'},\n",
       "  {u'duration': u'',\n",
       "   u'position': u'B1',\n",
       "   u'title': u'Friends Only',\n",
       "   u'type_': u'track'},\n",
       "  {u'duration': u'',\n",
       "   u'position': u'B2',\n",
       "   u'title': u'Dog And Pony Show',\n",
       "   u'type_': u'track'},\n",
       "  {u'duration': u'',\n",
       "   u'position': u'B3',\n",
       "   u'title': u'Porno Star',\n",
       "   u'type_': u'track'}],\n",
       " [{u'duration': u'',\n",
       "   u'position': u'A1',\n",
       "   u'title': u'Friends Only',\n",
       "   u'type_': u'track'},\n",
       "  {u'duration': u'',\n",
       "   u'position': u'A2',\n",
       "   u'title': u'The Admiral',\n",
       "   u'type_': u'track'},\n",
       "  {u'duration': u'',\n",
       "   u'position': u'A3',\n",
       "   u'title': u'Song Of The Minerals',\n",
       "   u'type_': u'track'},\n",
       "  {u'duration': u'',\n",
       "   u'position': u'B1',\n",
       "   u'title': u'Friends Only',\n",
       "   u'type_': u'track'},\n",
       "  {u'duration': u'',\n",
       "   u'position': u'B2',\n",
       "   u'title': u'Dog And Pony Show',\n",
       "   u'type_': u'track'},\n",
       "  {u'duration': u'',\n",
       "   u'position': u'B3',\n",
       "   u'title': u'Porno Star',\n",
       "   u'type_': u'track'}],\n",
       " [{u'duration': u'',\n",
       "   u'position': u'A1',\n",
       "   u'title': u'Friends Only',\n",
       "   u'type_': u'track'},\n",
       "  {u'duration': u'',\n",
       "   u'position': u'A2',\n",
       "   u'title': u'The Admiral',\n",
       "   u'type_': u'track'},\n",
       "  {u'duration': u'',\n",
       "   u'position': u'A3',\n",
       "   u'title': u'Song Of The Minerals',\n",
       "   u'type_': u'track'},\n",
       "  {u'duration': u'',\n",
       "   u'position': u'B1',\n",
       "   u'title': u'Friends Only',\n",
       "   u'type_': u'track'},\n",
       "  {u'duration': u'',\n",
       "   u'position': u'B2',\n",
       "   u'title': u'Dog And Pony Show',\n",
       "   u'type_': u'track'},\n",
       "  {u'duration': u'',\n",
       "   u'position': u'B3',\n",
       "   u'title': u'Porno Star',\n",
       "   u'type_': u'track'}],\n",
       " [{u'duration': u'',\n",
       "   u'position': u'A1',\n",
       "   u'title': u'Friends Only',\n",
       "   u'type_': u'track'},\n",
       "  {u'duration': u'',\n",
       "   u'position': u'A2',\n",
       "   u'title': u'The Admiral',\n",
       "   u'type_': u'track'},\n",
       "  {u'duration': u'',\n",
       "   u'position': u'A3',\n",
       "   u'title': u'Song Of The Minerals',\n",
       "   u'type_': u'track'},\n",
       "  {u'duration': u'',\n",
       "   u'position': u'B1',\n",
       "   u'title': u'Friends Only',\n",
       "   u'type_': u'track'},\n",
       "  {u'duration': u'',\n",
       "   u'position': u'B2',\n",
       "   u'title': u'Dog And Pony Show',\n",
       "   u'type_': u'track'},\n",
       "  {u'duration': u'',\n",
       "   u'position': u'B3',\n",
       "   u'title': u'Porno Star',\n",
       "   u'type_': u'track'}],\n",
       " [{u'duration': u'',\n",
       "   u'position': u'A1',\n",
       "   u'title': u'Friends Only',\n",
       "   u'type_': u'track'},\n",
       "  {u'duration': u'',\n",
       "   u'position': u'A2',\n",
       "   u'title': u'The Admiral',\n",
       "   u'type_': u'track'},\n",
       "  {u'duration': u'',\n",
       "   u'position': u'A3',\n",
       "   u'title': u'Song Of The Minerals',\n",
       "   u'type_': u'track'},\n",
       "  {u'duration': u'',\n",
       "   u'position': u'B1',\n",
       "   u'title': u'Friends Only',\n",
       "   u'type_': u'track'},\n",
       "  {u'duration': u'',\n",
       "   u'position': u'B2',\n",
       "   u'title': u'Dog And Pony Show',\n",
       "   u'type_': u'track'},\n",
       "  {u'duration': u'',\n",
       "   u'position': u'B3',\n",
       "   u'title': u'Porno Star',\n",
       "   u'type_': u'track'}],\n",
       " [{u'duration': u'',\n",
       "   u'position': u'A1',\n",
       "   u'title': u'Friends Only',\n",
       "   u'type_': u'track'},\n",
       "  {u'duration': u'',\n",
       "   u'position': u'A2',\n",
       "   u'title': u'The Admiral',\n",
       "   u'type_': u'track'},\n",
       "  {u'duration': u'',\n",
       "   u'position': u'A3',\n",
       "   u'title': u'Song Of The Minerals',\n",
       "   u'type_': u'track'},\n",
       "  {u'duration': u'',\n",
       "   u'position': u'B1',\n",
       "   u'title': u'Friends Only',\n",
       "   u'type_': u'track'},\n",
       "  {u'duration': u'',\n",
       "   u'position': u'B2',\n",
       "   u'title': u'Dog And Pony Show',\n",
       "   u'type_': u'track'},\n",
       "  {u'duration': u'',\n",
       "   u'position': u'B3',\n",
       "   u'title': u'Porno Star',\n",
       "   u'type_': u'track'}],\n",
       " [{u'duration': u'',\n",
       "   u'position': u'A1',\n",
       "   u'title': u'Friends Only',\n",
       "   u'type_': u'track'},\n",
       "  {u'duration': u'',\n",
       "   u'position': u'A2',\n",
       "   u'title': u'The Admiral',\n",
       "   u'type_': u'track'},\n",
       "  {u'duration': u'',\n",
       "   u'position': u'A3',\n",
       "   u'title': u'Song Of The Minerals',\n",
       "   u'type_': u'track'},\n",
       "  {u'duration': u'',\n",
       "   u'position': u'B1',\n",
       "   u'title': u'Friends Only',\n",
       "   u'type_': u'track'},\n",
       "  {u'duration': u'',\n",
       "   u'position': u'B2',\n",
       "   u'title': u'Dog And Pony Show',\n",
       "   u'type_': u'track'},\n",
       "  {u'duration': u'',\n",
       "   u'position': u'B3',\n",
       "   u'title': u'Porno Star',\n",
       "   u'type_': u'track'}],\n",
       " [{u'duration': u'',\n",
       "   u'position': u'A1',\n",
       "   u'title': u'Friends Only',\n",
       "   u'type_': u'track'},\n",
       "  {u'duration': u'',\n",
       "   u'position': u'A2',\n",
       "   u'title': u'The Admiral',\n",
       "   u'type_': u'track'},\n",
       "  {u'duration': u'',\n",
       "   u'position': u'A3',\n",
       "   u'title': u'Song Of The Minerals',\n",
       "   u'type_': u'track'},\n",
       "  {u'duration': u'',\n",
       "   u'position': u'B1',\n",
       "   u'title': u'Friends Only',\n",
       "   u'type_': u'track'},\n",
       "  {u'duration': u'',\n",
       "   u'position': u'B2',\n",
       "   u'title': u'Dog And Pony Show',\n",
       "   u'type_': u'track'},\n",
       "  {u'duration': u'',\n",
       "   u'position': u'B3',\n",
       "   u'title': u'Porno Star',\n",
       "   u'type_': u'track'}],\n",
       " [{u'duration': u'',\n",
       "   u'position': u'A1',\n",
       "   u'title': u'Friends Only',\n",
       "   u'type_': u'track'},\n",
       "  {u'duration': u'',\n",
       "   u'position': u'A2',\n",
       "   u'title': u'The Admiral',\n",
       "   u'type_': u'track'},\n",
       "  {u'duration': u'',\n",
       "   u'position': u'A3',\n",
       "   u'title': u'Song Of The Minerals',\n",
       "   u'type_': u'track'},\n",
       "  {u'duration': u'',\n",
       "   u'position': u'B1',\n",
       "   u'title': u'Friends Only',\n",
       "   u'type_': u'track'},\n",
       "  {u'duration': u'',\n",
       "   u'position': u'B2',\n",
       "   u'title': u'Dog And Pony Show',\n",
       "   u'type_': u'track'},\n",
       "  {u'duration': u'',\n",
       "   u'position': u'B3',\n",
       "   u'title': u'Porno Star',\n",
       "   u'type_': u'track'}],\n",
       " [{u'duration': u'',\n",
       "   u'position': u'A1',\n",
       "   u'title': u'Friends Only',\n",
       "   u'type_': u'track'},\n",
       "  {u'duration': u'',\n",
       "   u'position': u'A2',\n",
       "   u'title': u'The Admiral',\n",
       "   u'type_': u'track'},\n",
       "  {u'duration': u'',\n",
       "   u'position': u'A3',\n",
       "   u'title': u'Song Of The Minerals',\n",
       "   u'type_': u'track'},\n",
       "  {u'duration': u'',\n",
       "   u'position': u'B1',\n",
       "   u'title': u'Friends Only',\n",
       "   u'type_': u'track'},\n",
       "  {u'duration': u'',\n",
       "   u'position': u'B2',\n",
       "   u'title': u'Dog And Pony Show',\n",
       "   u'type_': u'track'},\n",
       "  {u'duration': u'',\n",
       "   u'position': u'B3',\n",
       "   u'title': u'Porno Star',\n",
       "   u'type_': u'track'}],\n",
       " [{u'duration': u'',\n",
       "   u'position': u'A1',\n",
       "   u'title': u'Friends Only',\n",
       "   u'type_': u'track'},\n",
       "  {u'duration': u'',\n",
       "   u'position': u'A2',\n",
       "   u'title': u'The Admiral',\n",
       "   u'type_': u'track'},\n",
       "  {u'duration': u'',\n",
       "   u'position': u'A3',\n",
       "   u'title': u'Song Of The Minerals',\n",
       "   u'type_': u'track'},\n",
       "  {u'duration': u'',\n",
       "   u'position': u'B1',\n",
       "   u'title': u'Friends Only',\n",
       "   u'type_': u'track'},\n",
       "  {u'duration': u'',\n",
       "   u'position': u'B2',\n",
       "   u'title': u'Dog And Pony Show',\n",
       "   u'type_': u'track'},\n",
       "  {u'duration': u'',\n",
       "   u'position': u'B3',\n",
       "   u'title': u'Porno Star',\n",
       "   u'type_': u'track'}],\n",
       " [{u'duration': u'',\n",
       "   u'position': u'A1',\n",
       "   u'title': u'Friends Only',\n",
       "   u'type_': u'track'},\n",
       "  {u'duration': u'',\n",
       "   u'position': u'A2',\n",
       "   u'title': u'The Admiral',\n",
       "   u'type_': u'track'},\n",
       "  {u'duration': u'',\n",
       "   u'position': u'A3',\n",
       "   u'title': u'Song Of The Minerals',\n",
       "   u'type_': u'track'},\n",
       "  {u'duration': u'',\n",
       "   u'position': u'B1',\n",
       "   u'title': u'Friends Only',\n",
       "   u'type_': u'track'},\n",
       "  {u'duration': u'',\n",
       "   u'position': u'B2',\n",
       "   u'title': u'Dog And Pony Show',\n",
       "   u'type_': u'track'},\n",
       "  {u'duration': u'',\n",
       "   u'position': u'B3',\n",
       "   u'title': u'Porno Star',\n",
       "   u'type_': u'track'}]]"
      ]
     },
     "execution_count": 586,
     "metadata": {},
     "output_type": "execute_result"
    }
   ],
   "source": [
    "reltmp"
   ]
  },
  {
   "cell_type": "code",
   "execution_count": 587,
   "metadata": {
    "collapsed": false
   },
   "outputs": [
    {
     "data": {
      "text/plain": [
       "15"
      ]
     },
     "execution_count": 587,
     "metadata": {},
     "output_type": "execute_result"
    }
   ],
   "source": [
    "len(releases)"
   ]
  },
  {
   "cell_type": "code",
   "execution_count": 588,
   "metadata": {
    "collapsed": false
   },
   "outputs": [],
   "source": [
    "out0 = dso.chek_release(releases[0])\n",
    "out1 = dso.chek_release(releases[14])"
   ]
  },
  {
   "cell_type": "code",
   "execution_count": 589,
   "metadata": {
    "collapsed": false
   },
   "outputs": [
    {
     "data": {
      "text/plain": [
       "({'genres': {'rock': 4},\n",
       "  'release_count': 4,\n",
       "  'styles': {'avantgarde': 4, 'experimental': 4, 'hard rock': 4},\n",
       "  'title': 'song%20of%20the%20minerals'},\n",
       " {'genres': {'rock': 4},\n",
       "  'release_count': 4,\n",
       "  'styles': {'indie rock': 4},\n",
       "  'title': 'song%20of%20the%20minerals'})"
      ]
     },
     "execution_count": 589,
     "metadata": {},
     "output_type": "execute_result"
    }
   ],
   "source": [
    "out0, out1"
   ]
  },
  {
   "cell_type": "markdown",
   "metadata": {},
   "source": [
    "### This method creates a song dictionary - to keep the data structure consistent"
   ]
  },
  {
   "cell_type": "code",
   "execution_count": 590,
   "metadata": {
    "collapsed": true
   },
   "outputs": [],
   "source": [
    "emptysong = dso.create_songdict_complete()"
   ]
  },
  {
   "cell_type": "code",
   "execution_count": 593,
   "metadata": {
    "collapsed": false
   },
   "outputs": [
    {
     "data": {
      "text/plain": [
       "{'genres': {}, 'release_count': 2, 'styles': {}, 'title': ''}"
      ]
     },
     "execution_count": 593,
     "metadata": {},
     "output_type": "execute_result"
    }
   ],
   "source": [
    "emptysong"
   ]
  },
  {
   "cell_type": "code",
   "execution_count": 594,
   "metadata": {
    "collapsed": false
   },
   "outputs": [],
   "source": [
    "a = ['Rock', 'Pop']\n",
    "emptysong['release_count'] = 2\n",
    "ciao = dso.weight_genres(emptysong,a)"
   ]
  },
  {
   "cell_type": "code",
   "execution_count": 602,
   "metadata": {
    "collapsed": false
   },
   "outputs": [
    {
     "data": {
      "text/plain": [
       "{'genres': {'pop': 2, 'rock': 6},\n",
       " 'release_count': 4,\n",
       " 'styles': {'indie rock': 4},\n",
       " 'title': 'song%20of%20the%20minerals'}"
      ]
     },
     "execution_count": 602,
     "metadata": {},
     "output_type": "execute_result"
    }
   ],
   "source": [
    "ciao"
   ]
  },
  {
   "cell_type": "markdown",
   "metadata": {},
   "source": [
    "### this method merges the genres with the new one retrieved\n",
    "second argument can be list or dictionary"
   ]
  },
  {
   "cell_type": "code",
   "execution_count": 607,
   "metadata": {
    "collapsed": true
   },
   "outputs": [],
   "source": [
    "ciao = dso.weight_genres(ciao,a)"
   ]
  },
  {
   "cell_type": "code",
   "execution_count": 608,
   "metadata": {
    "collapsed": false
   },
   "outputs": [
    {
     "data": {
      "text/plain": [
       "{'genres': {'pop': 5, 'rock': 9},\n",
       " 'release_count': 4,\n",
       " 'styles': {'indie rock': 4},\n",
       " 'title': 'song%20of%20the%20minerals'}"
      ]
     },
     "execution_count": 608,
     "metadata": {},
     "output_type": "execute_result"
    }
   ],
   "source": [
    "ciao"
   ]
  },
  {
   "cell_type": "markdown",
   "metadata": {},
   "source": [
    "### merge two song dictionaries"
   ]
  },
  {
   "cell_type": "code",
   "execution_count": 550,
   "metadata": {
    "collapsed": false
   },
   "outputs": [],
   "source": [
    "mergedout = {}"
   ]
  },
  {
   "cell_type": "code",
   "execution_count": 611,
   "metadata": {
    "collapsed": false
   },
   "outputs": [
    {
     "data": {
      "text/plain": [
       "{'genres': {'pop': 5, 'rock': 13},\n",
       " 'release_count': 8,\n",
       " 'styles': {'avantgarde': 4,\n",
       "  'experimental': 4,\n",
       "  'hard rock': 4,\n",
       "  'indie rock': 4},\n",
       " 'title': 'song%20of%20the%20minerals'}"
      ]
     },
     "execution_count": 611,
     "metadata": {},
     "output_type": "execute_result"
    }
   ],
   "source": [
    "mergedout"
   ]
  },
  {
   "cell_type": "code",
   "execution_count": 612,
   "metadata": {
    "collapsed": false
   },
   "outputs": [
    {
     "data": {
      "text/plain": [
       "({'genres': {'pop': 5, 'rock': 13},\n",
       "  'release_count': 8,\n",
       "  'styles': {'avantgarde': 4,\n",
       "   'experimental': 4,\n",
       "   'hard rock': 4,\n",
       "   'indie rock': 4},\n",
       "  'title': 'song%20of%20the%20minerals'},\n",
       " {'genres': {'pop': 5, 'rock': 9},\n",
       "  'release_count': 4,\n",
       "  'styles': {'indie rock': 4},\n",
       "  'title': 'song%20of%20the%20minerals'})"
      ]
     },
     "execution_count": 612,
     "metadata": {},
     "output_type": "execute_result"
    }
   ],
   "source": [
    "out0, out1"
   ]
  },
  {
   "cell_type": "code",
   "execution_count": 613,
   "metadata": {
    "collapsed": false
   },
   "outputs": [],
   "source": [
    "mergedout = dso.merge_song_dict(out0,out1)"
   ]
  },
  {
   "cell_type": "markdown",
   "metadata": {},
   "source": [
    "### Read all the releases jeson files and output a dictionary"
   ]
  },
  {
   "cell_type": "code",
   "execution_count": 618,
   "metadata": {
    "collapsed": false
   },
   "outputs": [
    {
     "name": "stdout",
     "output_type": "stream",
     "text": [
      "1299912\n",
      "1299889\n",
      "2080421\n",
      "3146020\n",
      "2053797\n",
      "371395\n",
      "372758\n",
      "5500977\n",
      "1041522\n",
      "5810769\n",
      "1690696\n",
      "6761087\n",
      "7386537\n",
      "7191705\n",
      "7359767\n"
     ]
    }
   ],
   "source": [
    "songdict = dso.create_songdict()\n",
    "for i in releases:\n",
    "    print i\n",
    "    out = dso.chek_release(i)\n",
    "    songdict = dso.merge_song_dict(songdict,out)"
   ]
  },
  {
   "cell_type": "code",
   "execution_count": 619,
   "metadata": {
    "collapsed": false
   },
   "outputs": [
    {
     "data": {
      "text/plain": [
       "{'genres': {'rock': 66},\n",
       " 'release_count': 69,\n",
       " 'styles': {'alternative rock': 16,\n",
       "  'avantgarde': 22,\n",
       "  'experimental': 22,\n",
       "  'hard rock': 22,\n",
       "  'hardcore': 20,\n",
       "  'indie rock': 24,\n",
       "  'math rock': 4,\n",
       "  'noise': 20,\n",
       "  'punk': 20},\n",
       " 'title': 'song%20of%20the%20minerals'}"
      ]
     },
     "execution_count": 619,
     "metadata": {},
     "output_type": "execute_result"
    }
   ],
   "source": [
    "songdict"
   ]
  },
  {
   "cell_type": "code",
   "execution_count": null,
   "metadata": {
    "collapsed": true
   },
   "outputs": [],
   "source": []
  }
 ],
 "metadata": {
  "kernelspec": {
   "display_name": "Python 2",
   "language": "python",
   "name": "python2"
  },
  "language_info": {
   "codemirror_mode": {
    "name": "ipython",
    "version": 2
   },
   "file_extension": ".py",
   "mimetype": "text/x-python",
   "name": "python",
   "nbconvert_exporter": "python",
   "pygments_lexer": "ipython2",
   "version": "2.7.5"
  }
 },
 "nbformat": 4,
 "nbformat_minor": 0
}
