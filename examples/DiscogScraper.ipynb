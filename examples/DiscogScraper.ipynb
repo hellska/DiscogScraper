{
 "cells": [
  {
   "cell_type": "code",
   "execution_count": 26,
   "metadata": {
    "collapsed": true
   },
   "outputs": [],
   "source": [
    "import sys"
   ]
  },
  {
   "cell_type": "code",
   "execution_count": 27,
   "metadata": {
    "collapsed": true
   },
   "outputs": [],
   "source": [
    "sys.path.append('..')"
   ]
  },
  {
   "cell_type": "code",
   "execution_count": 28,
   "metadata": {
    "collapsed": false
   },
   "outputs": [],
   "source": [
    "import discogscraper"
   ]
  },
  {
   "cell_type": "markdown",
   "metadata": {},
   "source": [
    "### Insert Your Discogs Token here"
   ]
  },
  {
   "cell_type": "code",
   "execution_count": 29,
   "metadata": {
    "collapsed": true
   },
   "outputs": [],
   "source": [
    "myToken='myoEuQPZlLnuRtHokDXecKtWoeSYBzglFRKUsxcc'"
   ]
  },
  {
   "cell_type": "code",
   "execution_count": 30,
   "metadata": {
    "collapsed": true
   },
   "outputs": [],
   "source": [
    "import discogscraper as ds"
   ]
  },
  {
   "cell_type": "code",
   "execution_count": 31,
   "metadata": {
    "collapsed": false
   },
   "outputs": [
    {
     "data": {
      "text/plain": [
       "<module 'discogscraper' from '../discogscraper.py'>"
      ]
     },
     "execution_count": 31,
     "metadata": {},
     "output_type": "execute_result"
    }
   ],
   "source": [
    "reload(ds)"
   ]
  },
  {
   "cell_type": "code",
   "execution_count": 32,
   "metadata": {
    "collapsed": false
   },
   "outputs": [],
   "source": [
    "dso = ds.DiscogScraper(myToken, 'shellac', 'song of the minerals')"
   ]
  },
  {
   "cell_type": "code",
   "execution_count": 33,
   "metadata": {
    "collapsed": true
   },
   "outputs": [],
   "source": [
    "dso = ds.DiscogScraper(myToken, 'sonic youth', 'sugar kane')"
   ]
  },
  {
   "cell_type": "code",
   "execution_count": 34,
   "metadata": {
    "collapsed": false
   },
   "outputs": [
    {
     "data": {
      "text/plain": [
       "'https://api.discogs.com/'"
      ]
     },
     "execution_count": 34,
     "metadata": {},
     "output_type": "execute_result"
    }
   ],
   "source": [
    "dso.main_url"
   ]
  },
  {
   "cell_type": "code",
   "execution_count": 35,
   "metadata": {
    "collapsed": false
   },
   "outputs": [
    {
     "data": {
      "text/plain": [
       "'json_releases/'"
      ]
     },
     "execution_count": 35,
     "metadata": {},
     "output_type": "execute_result"
    }
   ],
   "source": [
    "dso.json_path"
   ]
  },
  {
   "cell_type": "markdown",
   "metadata": {},
   "source": [
    "### get the search result in json format from Discogs"
   ]
  },
  {
   "cell_type": "code",
   "execution_count": 36,
   "metadata": {
    "collapsed": false
   },
   "outputs": [
    {
     "name": "stdout",
     "output_type": "stream",
     "text": [
      "Use Initialization Values\n"
     ]
    },
    {
     "data": {
      "text/plain": [
       "\"curl 'https://api.discogs.com/database/search?q=sonic%20youth&token=myoEuQPZlLnuRtHokDXecKtWoeSYBzglFRKUsxcc&track=sugar%20kane' > ./json_releases/sonic%20youthsugar%20kane.json\""
      ]
     },
     "execution_count": 36,
     "metadata": {},
     "output_type": "execute_result"
    }
   ],
   "source": [
    "dso.search_command()"
   ]
  },
  {
   "cell_type": "code",
   "execution_count": 37,
   "metadata": {
    "collapsed": false
   },
   "outputs": [
    {
     "name": "stdout",
     "output_type": "stream",
     "text": [
      "Use Initialization Values\n"
     ]
    }
   ],
   "source": [
    "jsonsearch = dso.get_url(dso.search_command())"
   ]
  },
  {
   "cell_type": "markdown",
   "metadata": {},
   "source": [
    "### extract the releases IDs from the retrieved file"
   ]
  },
  {
   "cell_type": "code",
   "execution_count": 38,
   "metadata": {
    "collapsed": false
   },
   "outputs": [
    {
     "data": {
      "text/plain": [
       "'./json_releases/sonic%20youthsugar%20kane.json'"
      ]
     },
     "execution_count": 38,
     "metadata": {},
     "output_type": "execute_result"
    }
   ],
   "source": [
    "dso.tempFile"
   ]
  },
  {
   "cell_type": "code",
   "execution_count": 39,
   "metadata": {
    "collapsed": false,
    "scrolled": true
   },
   "outputs": [],
   "source": [
    "releases, nexts = dso.releasecollect()"
   ]
  },
  {
   "cell_type": "code",
   "execution_count": 40,
   "metadata": {
    "collapsed": false
   },
   "outputs": [
    {
     "data": {
      "text/plain": [
       "(u'https://api.discogs.com/database/search?q=sonic+youth&track=sugar+kane&token=myoEuQPZlLnuRtHokDXecKtWoeSYBzglFRKUsxcc&page=2&per_page=50',\n",
       " [2748104,\n",
       "  1547422,\n",
       "  1997664,\n",
       "  7449174,\n",
       "  7449645,\n",
       "  8162025,\n",
       "  8161988,\n",
       "  2385113,\n",
       "  7905142,\n",
       "  595631,\n",
       "  702611,\n",
       "  2828798,\n",
       "  1191317,\n",
       "  1934921,\n",
       "  2839880,\n",
       "  611210,\n",
       "  547336,\n",
       "  471852,\n",
       "  1614150,\n",
       "  7800891,\n",
       "  925232,\n",
       "  2243881,\n",
       "  371040,\n",
       "  1149142,\n",
       "  2769006,\n",
       "  759768,\n",
       "  970487,\n",
       "  370157,\n",
       "  1140050,\n",
       "  2240262,\n",
       "  2471244,\n",
       "  4575485,\n",
       "  4814085,\n",
       "  691527,\n",
       "  1029931,\n",
       "  8169610,\n",
       "  1750538,\n",
       "  427360,\n",
       "  635825,\n",
       "  4274392,\n",
       "  3215721,\n",
       "  3658856])"
      ]
     },
     "execution_count": 40,
     "metadata": {},
     "output_type": "execute_result"
    }
   ],
   "source": [
    "nexts, releases"
   ]
  },
  {
   "cell_type": "markdown",
   "metadata": {},
   "source": [
    "### get one release file from Discogs"
   ]
  },
  {
   "cell_type": "code",
   "execution_count": 41,
   "metadata": {
    "collapsed": false
   },
   "outputs": [
    {
     "data": {
      "text/plain": [
       "\"curl 'https://api.discogs.com/releases/1547422' --user-agent 'discogsBrainFeederz/0.1' >> ./json_releases/1547422.json\""
      ]
     },
     "execution_count": 41,
     "metadata": {},
     "output_type": "execute_result"
    }
   ],
   "source": [
    "dso.release_command(releases[1])"
   ]
  },
  {
   "cell_type": "code",
   "execution_count": 42,
   "metadata": {
    "collapsed": false
   },
   "outputs": [],
   "source": [
    "jsonrelease = dso.get_url(dso.release_command(releases[1]))"
   ]
  },
  {
   "cell_type": "markdown",
   "metadata": {},
   "source": [
    "### get all releases files from Discogs"
   ]
  },
  {
   "cell_type": "code",
   "execution_count": 43,
   "metadata": {
    "collapsed": true
   },
   "outputs": [],
   "source": [
    "for i in releases:\n",
    "    dso.get_url(dso.release_command(i))"
   ]
  },
  {
   "cell_type": "markdown",
   "metadata": {},
   "source": [
    "### Extract the tracklist from a release json file\n",
    "note: in one release file more than one json can be present, it means that a file can store more than one release"
   ]
  },
  {
   "cell_type": "code",
   "execution_count": 44,
   "metadata": {
    "collapsed": false
   },
   "outputs": [],
   "source": [
    "tracklisttmp = dso.get_tracklist(releases[1])"
   ]
  },
  {
   "cell_type": "code",
   "execution_count": 45,
   "metadata": {
    "collapsed": false
   },
   "outputs": [
    {
     "data": {
      "text/plain": [
       "[[{u'duration': u'',\n",
       "   u'position': u'1',\n",
       "   u'title': u'Little Trouble Girl',\n",
       "   u'type_': u'track'},\n",
       "  {u'duration': u'',\n",
       "   u'position': u'2',\n",
       "   u'title': u'Sugar Kane',\n",
       "   u'type_': u'track'},\n",
       "  {u'duration': u'',\n",
       "   u'position': u'3',\n",
       "   u'title': u'Dirty Boots',\n",
       "   u'type_': u'track'}],\n",
       " [{u'duration': u'',\n",
       "   u'position': u'1',\n",
       "   u'title': u'Little Trouble Girl',\n",
       "   u'type_': u'track'},\n",
       "  {u'duration': u'',\n",
       "   u'position': u'2',\n",
       "   u'title': u'Sugar Kane',\n",
       "   u'type_': u'track'},\n",
       "  {u'duration': u'',\n",
       "   u'position': u'3',\n",
       "   u'title': u'Dirty Boots',\n",
       "   u'type_': u'track'}],\n",
       " [{u'duration': u'',\n",
       "   u'position': u'1',\n",
       "   u'title': u'Little Trouble Girl',\n",
       "   u'type_': u'track'},\n",
       "  {u'duration': u'',\n",
       "   u'position': u'2',\n",
       "   u'title': u'Sugar Kane',\n",
       "   u'type_': u'track'},\n",
       "  {u'duration': u'',\n",
       "   u'position': u'3',\n",
       "   u'title': u'Dirty Boots',\n",
       "   u'type_': u'track'}],\n",
       " [{u'duration': u'',\n",
       "   u'position': u'1',\n",
       "   u'title': u'Little Trouble Girl',\n",
       "   u'type_': u'track'},\n",
       "  {u'duration': u'',\n",
       "   u'position': u'2',\n",
       "   u'title': u'Sugar Kane',\n",
       "   u'type_': u'track'},\n",
       "  {u'duration': u'',\n",
       "   u'position': u'3',\n",
       "   u'title': u'Dirty Boots',\n",
       "   u'type_': u'track'}],\n",
       " [{u'duration': u'',\n",
       "   u'position': u'1',\n",
       "   u'title': u'Little Trouble Girl',\n",
       "   u'type_': u'track'},\n",
       "  {u'duration': u'',\n",
       "   u'position': u'2',\n",
       "   u'title': u'Sugar Kane',\n",
       "   u'type_': u'track'},\n",
       "  {u'duration': u'',\n",
       "   u'position': u'3',\n",
       "   u'title': u'Dirty Boots',\n",
       "   u'type_': u'track'}],\n",
       " [{u'duration': u'',\n",
       "   u'position': u'1',\n",
       "   u'title': u'Little Trouble Girl',\n",
       "   u'type_': u'track'},\n",
       "  {u'duration': u'',\n",
       "   u'position': u'2',\n",
       "   u'title': u'Sugar Kane',\n",
       "   u'type_': u'track'},\n",
       "  {u'duration': u'',\n",
       "   u'position': u'3',\n",
       "   u'title': u'Dirty Boots',\n",
       "   u'type_': u'track'}]]"
      ]
     },
     "execution_count": 45,
     "metadata": {},
     "output_type": "execute_result"
    }
   ],
   "source": [
    "tracklisttmp"
   ]
  },
  {
   "cell_type": "code",
   "execution_count": 46,
   "metadata": {
    "collapsed": false
   },
   "outputs": [
    {
     "data": {
      "text/plain": [
       "42"
      ]
     },
     "execution_count": 46,
     "metadata": {},
     "output_type": "execute_result"
    }
   ],
   "source": [
    "len(releases)"
   ]
  },
  {
   "cell_type": "markdown",
   "metadata": {},
   "source": [
    "### Create a song dictionary from a single release"
   ]
  },
  {
   "cell_type": "code",
   "execution_count": 47,
   "metadata": {
    "collapsed": true
   },
   "outputs": [],
   "source": [
    "songdicttmp = dso.chek_release(releases[1])"
   ]
  },
  {
   "cell_type": "code",
   "execution_count": 48,
   "metadata": {
    "collapsed": false
   },
   "outputs": [
    {
     "data": {
      "text/plain": [
       "{'artist': 'sonic youth',\n",
       " 'genres': {'rock': 6},\n",
       " 'release_count': 6,\n",
       " 'styles': {'alternative rock': 6},\n",
       " 'title': 'sugar kane'}"
      ]
     },
     "execution_count": 48,
     "metadata": {},
     "output_type": "execute_result"
    }
   ],
   "source": [
    "songdicttmp"
   ]
  },
  {
   "cell_type": "code",
   "execution_count": 21,
   "metadata": {
    "collapsed": false
   },
   "outputs": [],
   "source": [
    "out0 = dso.chek_release(releases[0])\n",
    "out1 = dso.chek_release(releases[14])"
   ]
  },
  {
   "cell_type": "code",
   "execution_count": 22,
   "metadata": {
    "collapsed": false
   },
   "outputs": [
    {
     "data": {
      "text/plain": [
       "({'genres': {'rock': 5},\n",
       "  'release_count': 5,\n",
       "  'styles': {'avantgarde': 5, 'experimental': 5, 'hard rock': 5},\n",
       "  'title': 'song%20of%20the%20minerals'},\n",
       " {'genres': {'rock': 5},\n",
       "  'release_count': 5,\n",
       "  'styles': {'indie rock': 5},\n",
       "  'title': 'song%20of%20the%20minerals'})"
      ]
     },
     "execution_count": 22,
     "metadata": {},
     "output_type": "execute_result"
    }
   ],
   "source": [
    "out0, out1"
   ]
  },
  {
   "cell_type": "markdown",
   "metadata": {},
   "source": [
    "### This method creates a song dictionary - to keep the data structure consistent"
   ]
  },
  {
   "cell_type": "code",
   "execution_count": 25,
   "metadata": {
    "collapsed": false
   },
   "outputs": [],
   "source": [
    "emptysong = dso.create_songdict()"
   ]
  },
  {
   "cell_type": "code",
   "execution_count": 33,
   "metadata": {
    "collapsed": false
   },
   "outputs": [
    {
     "data": {
      "text/plain": [
       "{'genres': {'pop': 3, 'rock': 3},\n",
       " 'release_count': 2,\n",
       " 'styles': {},\n",
       " 'title': ''}"
      ]
     },
     "execution_count": 33,
     "metadata": {},
     "output_type": "execute_result"
    }
   ],
   "source": [
    "emptysong"
   ]
  },
  {
   "cell_type": "code",
   "execution_count": 38,
   "metadata": {
    "collapsed": false
   },
   "outputs": [],
   "source": [
    "a = ['Rock', 'Pop']\n",
    "emptysong['release_count'] = 2\n",
    "ciao = dso.weight_genres(emptysong,a)"
   ]
  },
  {
   "cell_type": "code",
   "execution_count": 37,
   "metadata": {
    "collapsed": false
   },
   "outputs": [
    {
     "data": {
      "text/plain": [
       "{'genres': {'ciao': 1, 'pop': 5, 'rock': 5},\n",
       " 'release_count': 2,\n",
       " 'styles': {},\n",
       " 'title': ''}"
      ]
     },
     "execution_count": 37,
     "metadata": {},
     "output_type": "execute_result"
    }
   ],
   "source": [
    "ciao"
   ]
  },
  {
   "cell_type": "markdown",
   "metadata": {},
   "source": [
    "### this method merges the genres with the new one retrieved\n",
    "second argument can be list or dictionary"
   ]
  },
  {
   "cell_type": "code",
   "execution_count": 607,
   "metadata": {
    "collapsed": true
   },
   "outputs": [],
   "source": [
    "ciao = dso.weight_genres(ciao,a)"
   ]
  },
  {
   "cell_type": "code",
   "execution_count": 608,
   "metadata": {
    "collapsed": false
   },
   "outputs": [
    {
     "data": {
      "text/plain": [
       "{'genres': {'pop': 5, 'rock': 9},\n",
       " 'release_count': 4,\n",
       " 'styles': {'indie rock': 4},\n",
       " 'title': 'song%20of%20the%20minerals'}"
      ]
     },
     "execution_count": 608,
     "metadata": {},
     "output_type": "execute_result"
    }
   ],
   "source": [
    "ciao"
   ]
  },
  {
   "cell_type": "markdown",
   "metadata": {},
   "source": [
    "### merge two song dictionaries"
   ]
  },
  {
   "cell_type": "code",
   "execution_count": 550,
   "metadata": {
    "collapsed": false
   },
   "outputs": [],
   "source": [
    "mergedout = {}"
   ]
  },
  {
   "cell_type": "code",
   "execution_count": 41,
   "metadata": {
    "collapsed": false
   },
   "outputs": [
    {
     "data": {
      "text/plain": [
       "{'genres': {'rock': 10},\n",
       " 'release_count': 10,\n",
       " 'styles': {'avantgarde': 5,\n",
       "  'experimental': 5,\n",
       "  'hard rock': 5,\n",
       "  'indie rock': 5},\n",
       " 'title': 'song%20of%20the%20minerals'}"
      ]
     },
     "execution_count": 41,
     "metadata": {},
     "output_type": "execute_result"
    }
   ],
   "source": [
    "mergedout"
   ]
  },
  {
   "cell_type": "code",
   "execution_count": 39,
   "metadata": {
    "collapsed": false
   },
   "outputs": [
    {
     "data": {
      "text/plain": [
       "({'genres': {'rock': 5},\n",
       "  'release_count': 5,\n",
       "  'styles': {'avantgarde': 5, 'experimental': 5, 'hard rock': 5},\n",
       "  'title': 'song%20of%20the%20minerals'},\n",
       " {'genres': {'rock': 5},\n",
       "  'release_count': 5,\n",
       "  'styles': {'indie rock': 5},\n",
       "  'title': 'song%20of%20the%20minerals'})"
      ]
     },
     "execution_count": 39,
     "metadata": {},
     "output_type": "execute_result"
    }
   ],
   "source": [
    "out0, out1"
   ]
  },
  {
   "cell_type": "code",
   "execution_count": 40,
   "metadata": {
    "collapsed": false
   },
   "outputs": [],
   "source": [
    "mergedout = dso.merge_song_dict(out0,out1)"
   ]
  },
  {
   "cell_type": "markdown",
   "metadata": {},
   "source": [
    "### Read all the releases jeson files and output a dictionary"
   ]
  },
  {
   "cell_type": "code",
   "execution_count": 49,
   "metadata": {
    "collapsed": false
   },
   "outputs": [
    {
     "name": "stdout",
     "output_type": "stream",
     "text": [
      "2748104\n",
      "1547422\n",
      "1997664\n",
      "7449174\n",
      "7449645\n",
      "8162025\n",
      "8161988\n",
      "2385113\n",
      "7905142\n",
      "595631\n",
      "702611\n",
      "2828798\n",
      "1191317\n",
      "1934921\n",
      "2839880\n",
      "611210\n",
      "547336\n",
      "471852\n",
      "1614150\n",
      "7800891\n",
      "925232\n",
      "2243881\n",
      "371040\n",
      "1149142\n",
      "2769006\n",
      "759768\n",
      "970487\n",
      "370157\n",
      "1140050\n",
      "2240262\n",
      "2471244\n",
      "4575485\n",
      "4814085\n",
      "691527\n",
      "1029931\n",
      "8169610\n",
      "1750538\n",
      "427360\n",
      "635825\n",
      "4274392\n",
      "3215721\n",
      "3658856\n"
     ]
    }
   ],
   "source": [
    "songdict = dso.create_songdict()\n",
    "for i in releases:\n",
    "    print i\n",
    "    # dso.get_url(dso.release_command(i)) # uncomment this to also download the files\n",
    "    out = dso.chek_release(i)\n",
    "    songdict = dso.merge_song_dict(songdict,out)"
   ]
  },
  {
   "cell_type": "code",
   "execution_count": 55,
   "metadata": {
    "collapsed": false
   },
   "outputs": [
    {
     "data": {
      "text/plain": [
       "{'artist': 'sonic youth',\n",
       " 'genres': {'rock': 89},\n",
       " 'release_count': 90,\n",
       " 'styles': {'alternative rock': 77,\n",
       "  'art rock': 6,\n",
       "  'avantgarde': 4,\n",
       "  'experimental': 18,\n",
       "  'garage rock': 6,\n",
       "  'grunge': 10,\n",
       "  'indie rock': 46,\n",
       "  'no wave': 2,\n",
       "  'noise': 22,\n",
       "  'post-punk': 6},\n",
       " 'title': 'sugar kane'}"
      ]
     },
     "execution_count": 55,
     "metadata": {},
     "output_type": "execute_result"
    }
   ],
   "source": [
    "songdict"
   ]
  },
  {
   "cell_type": "code",
   "execution_count": null,
   "metadata": {
    "collapsed": true
   },
   "outputs": [],
   "source": []
  }
 ],
 "metadata": {
  "kernelspec": {
   "display_name": "Python 2",
   "language": "python",
   "name": "python2"
  },
  "language_info": {
   "codemirror_mode": {
    "name": "ipython",
    "version": 2
   },
   "file_extension": ".py",
   "mimetype": "text/x-python",
   "name": "python",
   "nbconvert_exporter": "python",
   "pygments_lexer": "ipython2",
   "version": "2.7.5"
  }
 },
 "nbformat": 4,
 "nbformat_minor": 0
}
