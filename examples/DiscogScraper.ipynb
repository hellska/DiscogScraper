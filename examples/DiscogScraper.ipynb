{
 "cells": [
  {
   "cell_type": "code",
   "execution_count": 193,
   "metadata": {
    "collapsed": true
   },
   "outputs": [],
   "source": [
    "import sys"
   ]
  },
  {
   "cell_type": "code",
   "execution_count": 194,
   "metadata": {
    "collapsed": true
   },
   "outputs": [],
   "source": [
    "sys.path.append('..')"
   ]
  },
  {
   "cell_type": "code",
   "execution_count": 195,
   "metadata": {
    "collapsed": false
   },
   "outputs": [],
   "source": [
    "import discogscraper"
   ]
  },
  {
   "cell_type": "markdown",
   "metadata": {},
   "source": [
    "### Insert Your Discogs Token here"
   ]
  },
  {
   "cell_type": "code",
   "execution_count": 196,
   "metadata": {
    "collapsed": true
   },
   "outputs": [],
   "source": [
    "myToken=''"
   ]
  },
  {
   "cell_type": "code",
   "execution_count": 197,
   "metadata": {
    "collapsed": true
   },
   "outputs": [],
   "source": [
    "import discogscraper as ds"
   ]
  },
  {
   "cell_type": "code",
   "execution_count": 198,
   "metadata": {
    "collapsed": false
   },
   "outputs": [
    {
     "data": {
      "text/plain": [
       "<module 'discogscraper' from '../discogscraper.py'>"
      ]
     },
     "execution_count": 198,
     "metadata": {},
     "output_type": "execute_result"
    }
   ],
   "source": [
    "reload(ds)"
   ]
  },
  {
   "cell_type": "code",
   "execution_count": 199,
   "metadata": {
    "collapsed": false
   },
   "outputs": [],
   "source": [
    "dso = ds.DiscogScraper(myToken, 'shellac', 'song of the minerals')"
   ]
  },
  {
   "cell_type": "code",
   "execution_count": 200,
   "metadata": {
    "collapsed": false
   },
   "outputs": [
    {
     "data": {
      "text/plain": [
       "'https://api.discogs.com/'"
      ]
     },
     "execution_count": 200,
     "metadata": {},
     "output_type": "execute_result"
    }
   ],
   "source": [
    "dso.main_url"
   ]
  },
  {
   "cell_type": "code",
   "execution_count": 201,
   "metadata": {
    "collapsed": false
   },
   "outputs": [
    {
     "data": {
      "text/plain": [
       "'json_releases/'"
      ]
     },
     "execution_count": 201,
     "metadata": {},
     "output_type": "execute_result"
    }
   ],
   "source": [
    "dso.json_path"
   ]
  },
  {
   "cell_type": "code",
   "execution_count": 202,
   "metadata": {
    "collapsed": false
   },
   "outputs": [
    {
     "name": "stdout",
     "output_type": "stream",
     "text": [
      "Use Initialization Values\n"
     ]
    },
    {
     "data": {
      "text/plain": [
       "\"curl 'https://api.discogs.com/database/search?q=shellac&token=myoEuQPZlLnuRtHokDXecKtWoeSYBzglFRKUsxcc&track=song%20of%20the%20minerals' > ./json_releases/shellacsong%20of%20the%20minerals_1.json\""
      ]
     },
     "execution_count": 202,
     "metadata": {},
     "output_type": "execute_result"
    }
   ],
   "source": [
    "dso.search_command()"
   ]
  },
  {
   "cell_type": "code",
   "execution_count": 203,
   "metadata": {
    "collapsed": false
   },
   "outputs": [
    {
     "name": "stdout",
     "output_type": "stream",
     "text": [
      "Use Initialization Values\n"
     ]
    }
   ],
   "source": [
    "jsonsearch = dso.get_url(dso.search_command())"
   ]
  },
  {
   "cell_type": "code",
   "execution_count": 204,
   "metadata": {
    "collapsed": false
   },
   "outputs": [
    {
     "data": {
      "text/plain": [
       "'./json_releases/shellacsong%20of%20the%20minerals_1.json'"
      ]
     },
     "execution_count": 204,
     "metadata": {},
     "output_type": "execute_result"
    }
   ],
   "source": [
    "dso.tempFile"
   ]
  },
  {
   "cell_type": "code",
   "execution_count": 205,
   "metadata": {
    "collapsed": false,
    "scrolled": true
   },
   "outputs": [],
   "source": [
    "releases, nexts = dso.releasecollect()"
   ]
  },
  {
   "cell_type": "code",
   "execution_count": 206,
   "metadata": {
    "collapsed": false
   },
   "outputs": [
    {
     "data": {
      "text/plain": [
       "(0,\n",
       " [1299912,\n",
       "  1299889,\n",
       "  2080421,\n",
       "  3146020,\n",
       "  2053797,\n",
       "  371395,\n",
       "  372758,\n",
       "  5500977,\n",
       "  1041522,\n",
       "  5810769,\n",
       "  1690696,\n",
       "  6761087,\n",
       "  7386537,\n",
       "  7191705,\n",
       "  7359767])"
      ]
     },
     "execution_count": 206,
     "metadata": {},
     "output_type": "execute_result"
    }
   ],
   "source": [
    "nexts, releases"
   ]
  },
  {
   "cell_type": "markdown",
   "metadata": {},
   "source": [
    "### get one release file"
   ]
  },
  {
   "cell_type": "code",
   "execution_count": 207,
   "metadata": {
    "collapsed": false
   },
   "outputs": [
    {
     "data": {
      "text/plain": [
       "\"curl 'https://api.discogs.com/releases/1299889' --user-agent 'discogsBrainFeederz/0.1' >> ./json_releases/1299889.json\""
      ]
     },
     "execution_count": 207,
     "metadata": {},
     "output_type": "execute_result"
    }
   ],
   "source": [
    "dso.release_command(releases[1])"
   ]
  },
  {
   "cell_type": "code",
   "execution_count": 180,
   "metadata": {
    "collapsed": false
   },
   "outputs": [],
   "source": [
    "jsonrelease = dso.get_url(dso.release_command(releases[1]))"
   ]
  },
  {
   "cell_type": "markdown",
   "metadata": {},
   "source": [
    "### get all releases files"
   ]
  },
  {
   "cell_type": "code",
   "execution_count": 49,
   "metadata": {
    "collapsed": true
   },
   "outputs": [],
   "source": [
    "for i in releases:\n",
    "    dso.get_url(dso.release_command(i))"
   ]
  },
  {
   "cell_type": "code",
   "execution_count": 181,
   "metadata": {
    "collapsed": false
   },
   "outputs": [],
   "source": [
    "reltmp = dso.get_tracklist(releases[1])"
   ]
  },
  {
   "cell_type": "code",
   "execution_count": 147,
   "metadata": {
    "collapsed": true
   },
   "outputs": [
    {
     "data": {
      "text/plain": [
       "[[{u'duration': u'',\n",
       "   u'position': u'A1',\n",
       "   u'title': u'Friends Only',\n",
       "   u'type_': u'track'},\n",
       "  {u'duration': u'',\n",
       "   u'position': u'A2',\n",
       "   u'title': u'The Admiral',\n",
       "   u'type_': u'track'},\n",
       "  {u'duration': u'',\n",
       "   u'position': u'A3',\n",
       "   u'title': u'Song Of The Minerals',\n",
       "   u'type_': u'track'},\n",
       "  {u'duration': u'',\n",
       "   u'position': u'B1',\n",
       "   u'title': u'Friends Only',\n",
       "   u'type_': u'track'},\n",
       "  {u'duration': u'',\n",
       "   u'position': u'B2',\n",
       "   u'title': u'Dog And Pony Show',\n",
       "   u'type_': u'track'},\n",
       "  {u'duration': u'',\n",
       "   u'position': u'B3',\n",
       "   u'title': u'Porno Star',\n",
       "   u'type_': u'track'}],\n",
       " [{u'duration': u'',\n",
       "   u'position': u'A1',\n",
       "   u'title': u'Friends Only',\n",
       "   u'type_': u'track'},\n",
       "  {u'duration': u'',\n",
       "   u'position': u'A2',\n",
       "   u'title': u'The Admiral',\n",
       "   u'type_': u'track'},\n",
       "  {u'duration': u'',\n",
       "   u'position': u'A3',\n",
       "   u'title': u'Song Of The Minerals',\n",
       "   u'type_': u'track'},\n",
       "  {u'duration': u'',\n",
       "   u'position': u'B1',\n",
       "   u'title': u'Friends Only',\n",
       "   u'type_': u'track'},\n",
       "  {u'duration': u'',\n",
       "   u'position': u'B2',\n",
       "   u'title': u'Dog And Pony Show',\n",
       "   u'type_': u'track'},\n",
       "  {u'duration': u'',\n",
       "   u'position': u'B3',\n",
       "   u'title': u'Porno Star',\n",
       "   u'type_': u'track'}],\n",
       " [{u'duration': u'',\n",
       "   u'position': u'A1',\n",
       "   u'title': u'Friends Only',\n",
       "   u'type_': u'track'},\n",
       "  {u'duration': u'',\n",
       "   u'position': u'A2',\n",
       "   u'title': u'The Admiral',\n",
       "   u'type_': u'track'},\n",
       "  {u'duration': u'',\n",
       "   u'position': u'A3',\n",
       "   u'title': u'Song Of The Minerals',\n",
       "   u'type_': u'track'},\n",
       "  {u'duration': u'',\n",
       "   u'position': u'B1',\n",
       "   u'title': u'Friends Only',\n",
       "   u'type_': u'track'},\n",
       "  {u'duration': u'',\n",
       "   u'position': u'B2',\n",
       "   u'title': u'Dog And Pony Show',\n",
       "   u'type_': u'track'},\n",
       "  {u'duration': u'',\n",
       "   u'position': u'B3',\n",
       "   u'title': u'Porno Star',\n",
       "   u'type_': u'track'}],\n",
       " [{u'duration': u'',\n",
       "   u'position': u'A1',\n",
       "   u'title': u'Friends Only',\n",
       "   u'type_': u'track'},\n",
       "  {u'duration': u'',\n",
       "   u'position': u'A2',\n",
       "   u'title': u'The Admiral',\n",
       "   u'type_': u'track'},\n",
       "  {u'duration': u'',\n",
       "   u'position': u'A3',\n",
       "   u'title': u'Song Of The Minerals',\n",
       "   u'type_': u'track'},\n",
       "  {u'duration': u'',\n",
       "   u'position': u'B1',\n",
       "   u'title': u'Friends Only',\n",
       "   u'type_': u'track'},\n",
       "  {u'duration': u'',\n",
       "   u'position': u'B2',\n",
       "   u'title': u'Dog And Pony Show',\n",
       "   u'type_': u'track'},\n",
       "  {u'duration': u'',\n",
       "   u'position': u'B3',\n",
       "   u'title': u'Porno Star',\n",
       "   u'type_': u'track'}]]"
      ]
     },
     "execution_count": 147,
     "metadata": {},
     "output_type": "execute_result"
    }
   ],
   "source": [
    "reltmp"
   ]
  },
  {
   "cell_type": "code",
   "execution_count": 208,
   "metadata": {
    "collapsed": false
   },
   "outputs": [
    {
     "data": {
      "text/plain": [
       "15"
      ]
     },
     "execution_count": 208,
     "metadata": {},
     "output_type": "execute_result"
    }
   ],
   "source": [
    "len(releases)"
   ]
  },
  {
   "cell_type": "code",
   "execution_count": 209,
   "metadata": {
    "collapsed": false
   },
   "outputs": [],
   "source": [
    "out0 = dso.chek_release(releases[0])\n",
    "out1 = dso.chek_release(releases[14])"
   ]
  },
  {
   "cell_type": "code",
   "execution_count": 211,
   "metadata": {
    "collapsed": false
   },
   "outputs": [
    {
     "data": {
      "text/plain": [
       "({'genres': [u'Rock'],\n",
       "  'release_count': 1,\n",
       "  'styles': [u'Avantgarde', u'Experimental', u'Hard Rock'],\n",
       "  'title': 'song%20of%20the%20minerals'},\n",
       " {'genres': [u'Rock'],\n",
       "  'release_count': 1,\n",
       "  'styles': [u'Indie Rock'],\n",
       "  'title': 'song%20of%20the%20minerals'})"
      ]
     },
     "execution_count": 211,
     "metadata": {},
     "output_type": "execute_result"
    }
   ],
   "source": [
    "out0, out1"
   ]
  },
  {
   "cell_type": "markdown",
   "metadata": {},
   "source": [
    "### merge two dictionaries"
   ]
  },
  {
   "cell_type": "code",
   "execution_count": 210,
   "metadata": {
    "collapsed": false
   },
   "outputs": [],
   "source": [
    "mergedout = {}"
   ]
  },
  {
   "cell_type": "code",
   "execution_count": 214,
   "metadata": {
    "collapsed": false
   },
   "outputs": [
    {
     "data": {
      "text/plain": [
       "{'genres': [u'Rock'],\n",
       " 'release_count': 2,\n",
       " 'styles': [u'Avantgarde', u'Experimental', u'Hard Rock', u'Indie Rock'],\n",
       " 'title': 'song%20of%20the%20minerals'}"
      ]
     },
     "execution_count": 214,
     "metadata": {},
     "output_type": "execute_result"
    }
   ],
   "source": [
    "mergedout"
   ]
  },
  {
   "cell_type": "code",
   "execution_count": 213,
   "metadata": {
    "collapsed": false
   },
   "outputs": [],
   "source": [
    "mergedout = dso.merge_song_dict(out0,out1)"
   ]
  },
  {
   "cell_type": "code",
   "execution_count": 215,
   "metadata": {
    "collapsed": false
   },
   "outputs": [],
   "source": [
    "songdict = dso.create_songdict()\n",
    "for i in releases:\n",
    "    out = dso.chek_release(i)\n",
    "    songdict = dso.merge_song_dict(songdict,out)"
   ]
  },
  {
   "cell_type": "code",
   "execution_count": 216,
   "metadata": {
    "collapsed": false
   },
   "outputs": [
    {
     "data": {
      "text/plain": [
       "{'genres': [u'Rock'],\n",
       " 'release_count': 19,\n",
       " 'styles': [u'Alternative Rock',\n",
       "  u'Avantgarde',\n",
       "  u'Experimental',\n",
       "  u'Hard Rock',\n",
       "  u'Hardcore',\n",
       "  u'Indie Rock',\n",
       "  u'Math Rock',\n",
       "  u'Noise',\n",
       "  u'Punk'],\n",
       " 'title': 'song%20of%20the%20minerals'}"
      ]
     },
     "execution_count": 216,
     "metadata": {},
     "output_type": "execute_result"
    }
   ],
   "source": [
    "songdict"
   ]
  },
  {
   "cell_type": "code",
   "execution_count": 217,
   "metadata": {
    "collapsed": false
   },
   "outputs": [
    {
     "name": "stdout",
     "output_type": "stream",
     "text": [
      "[u'Rock']\n",
      "[u'Rock']\n",
      "[u'Rock']\n",
      "[u'Rock']\n",
      "[u'Rock']\n",
      "[u'Rock']\n",
      "[u'Rock']\n",
      "[u'Rock']\n",
      "[u'Rock']\n",
      "[u'Rock']\n",
      "[u'Rock']\n",
      "[u'Rock']\n",
      "[u'Rock']\n",
      "[u'Rock']\n",
      "[u'Rock']\n"
     ]
    }
   ],
   "source": [
    "for i in releases:\n",
    "    out = dso.chek_release(i)\n",
    "    print out['genres']"
   ]
  },
  {
   "cell_type": "code",
   "execution_count": null,
   "metadata": {
    "collapsed": true
   },
   "outputs": [],
   "source": []
  }
 ],
 "metadata": {
  "kernelspec": {
   "display_name": "Python 2",
   "language": "python",
   "name": "python2"
  },
  "language_info": {
   "codemirror_mode": {
    "name": "ipython",
    "version": 2
   },
   "file_extension": ".py",
   "mimetype": "text/x-python",
   "name": "python",
   "nbconvert_exporter": "python",
   "pygments_lexer": "ipython2",
   "version": "2.7.5"
  }
 },
 "nbformat": 4,
 "nbformat_minor": 0
}
